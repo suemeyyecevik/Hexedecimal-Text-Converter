{
  "nbformat": 4,
  "nbformat_minor": 0,
  "metadata": {
    "colab": {
      "provenance": []
    },
    "kernelspec": {
      "name": "python3",
      "display_name": "Python 3"
    },
    "language_info": {
      "name": "python"
    }
  },
  "cells": [
    {
      "cell_type": "code",
      "execution_count": null,
      "metadata": {
        "colab": {
          "base_uri": "https://localhost:8080/"
        },
        "id": "04aBg6eIzNfT",
        "outputId": "d1f85660-9793-4b49-f3af-4a291ba22ac0"
      },
      "outputs": [
        {
          "output_type": "stream",
          "name": "stdout",
          "text": [
            "\n",
            "Hexadecimal Text Converter\n",
            "1. Convert text to hex\n",
            "2. Convert hex to text\n",
            "3. Exit\n",
            "Make your choice: 1\n",
            "Enter the text: hello\n",
            "Hexadecimal representation: 68656c6c6f\n",
            "\n",
            "Hexadecimal Text Converter\n",
            "1. Convert text to hex\n",
            "2. Convert hex to text\n",
            "3. Exit\n",
            "Make your choice: 2\n",
            "Enter the hexadecimal text: 68656c6c6f\n",
            "Original text: hello\n",
            "\n",
            "Hexadecimal Text Converter\n",
            "1. Convert text to hex\n",
            "2. Convert hex to text\n",
            "3. Exit\n",
            "Make your choice: 1\n",
            "Enter the text: sümeyye\n",
            "Hexadecimal representation: 73c3bc6d65797965\n",
            "\n",
            "Hexadecimal Text Converter\n",
            "1. Convert text to hex\n",
            "2. Convert hex to text\n",
            "3. Exit\n",
            "Make your choice: 2\n",
            "Enter the hexadecimal text: 73c3bc6d65797965\n",
            "Original text: sümeyye\n",
            "\n",
            "Hexadecimal Text Converter\n",
            "1. Convert text to hex\n",
            "2. Convert hex to text\n",
            "3. Exit\n"
          ]
        }
      ],
      "source": [
        "def text_to_hex(text):\n",
        "    \"\"\"Convert text to hexadecimal.\"\"\"\n",
        "    return text.encode(\"utf-8\").hex()\n",
        "\n",
        "def hex_to_text(hex_string):\n",
        "    \"\"\"Convert hexadecimal to text.\"\"\"\n",
        "    return bytes.fromhex(hex_string).decode(\"utf-8\")\n",
        "\n",
        "while True:\n",
        "    print(\"\\nHexadecimal Text Converter\")\n",
        "    print(\"1. Convert text to hex\")\n",
        "    print(\"2. Convert hex to text\")\n",
        "    print(\"3. Exit\")\n",
        "    choice = input(\"Make your choice: \")\n",
        "\n",
        "    if choice == \"1\":\n",
        "        text = input(\"Enter the text: \")\n",
        "        hex_result = text_to_hex(text)\n",
        "        print(\"Hexadecimal representation:\", hex_result)\n",
        "    elif choice == \"2\":\n",
        "        hex_string = input(\"Enter the hexadecimal text: \")\n",
        "        try:\n",
        "            original_text = hex_to_text(hex_string)\n",
        "            print(\"Original text:\", original_text)\n",
        "        except:\n",
        "            print(\"Invalid hexadecimal text!\")\n",
        "    elif choice == \"3\":\n",
        "        print(\"Exiting the program...\")\n",
        "        break\n",
        "    else:\n",
        "        print(\"Invalid choice, please try again!\")"
      ]
    }
  ]
}