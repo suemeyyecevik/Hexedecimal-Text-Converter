{
  "nbformat": 4,
  "nbformat_minor": 0,
  "metadata": {
    "colab": {
      "provenance": []
    },
    "kernelspec": {
      "name": "python3",
      "display_name": "Python 3"
    },
    "language_info": {
      "name": "python"
    }
  },
  "cells": [
    {
      "cell_type": "code",
      "execution_count": null,
      "metadata": {
        "colab": {
          "base_uri": "https://localhost:8080/"
        },
        "id": "iU1Z9897yEmB",
        "outputId": "2ec7c642-11e2-4a89-f516-f84d4ebb9e7a"
      },
      "outputs": [
        {
          "output_type": "stream",
          "name": "stdout",
          "text": [
            "\n",
            "Hexadecimal Metin Oluşturucu\n",
            "1. Metni Hex'e çevir\n",
            "2. Hex'i metne çevir\n",
            "3. Çıkış\n"
          ]
        }
      ],
      "source": [
        "def metin_to_hex(metin):\n",
        "    hex_sonuc = metin.encode(\"utf-8\").hex()\n",
        "    return hex_sonuc\n",
        "\n",
        "def hex_to_metin(hex_metin):\n",
        "    metin = bytes.fromhex(hex_metin).decode(\"utf-8\")\n",
        "    return metin\n",
        "\n",
        "while True:\n",
        "    print(\"\\nHexadecimal Metin Oluşturucu\")\n",
        "    print(\"1. Metni Hex'e çevir\")\n",
        "    print(\"2. Hex'i metne çevir\")\n",
        "    print(\"3. Çıkış\")\n",
        "    secim = input(\"Seçiminizi yapın: \")\n",
        "\n",
        "    if secim == \"1\":\n",
        "        metin = input(\"Metni girin: \")\n",
        "        print(\"Hexadecimal karşılığı:\", metin_to_hex(metin))\n",
        "    elif secim == \"2\":\n",
        "        hex_metin = input(\"Hexadecimal metni girin: \")\n",
        "        try:\n",
        "            print(\"Metin karşılığı:\", hex_to_metin(hex_metin))\n",
        "        except:\n",
        "            print(\"Geçersiz hexadecimal metin!\")\n",
        "    elif secim == \"3\":\n",
        "        print(\"Programdan çıkılıyor...\")\n",
        "        break\n",
        "    else:\n",
        "        print(\"Geçersiz seçim, tekrar deneyin!\")"
      ]
    }
  ]
}